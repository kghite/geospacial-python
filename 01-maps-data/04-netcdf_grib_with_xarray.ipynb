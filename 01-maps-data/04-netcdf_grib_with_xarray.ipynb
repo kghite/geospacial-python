{
 "cells": [
  {
   "cell_type": "markdown",
   "source": [
    "# Multi-dimensional Timeseries Datasets with XArray\n",
    "\n",
    "## 1. Download temperature anomoly data and read it into an xarray dataset"
   ],
   "metadata": {
    "collapsed": false
   }
  },
  {
   "cell_type": "code",
   "execution_count": 2,
   "outputs": [],
   "source": [
    "import os\n",
    "import matplotlib.pyplot as plt\n",
    "import xarray as xr\n",
    "\n",
    "import utils\n",
    "\n",
    "filename = 'gistemp1200_GHCNv4_ERSSTv5.nc'\n",
    "data_url = 'https://github.com/spatialthoughts/python-dataviz-web/raw/main/data/gistemp/'\n",
    "\n",
    "utils.download(data_url + filename)\n",
    "\n",
    "# Create the dataset object\n",
    "file_path = os.path.join(utils.data_folder, filename)\n",
    "ds = xr.open_dataset(file_path)"
   ],
   "metadata": {
    "collapsed": false,
    "ExecuteTime": {
     "end_time": "2023-06-01T22:52:42.513291288Z",
     "start_time": "2023-06-01T22:52:42.470018860Z"
    }
   }
  },
  {
   "cell_type": "markdown",
   "source": [
    "## 2. Selecting, masking, subsetting, and aggregating data\n",
    "\n",
    "NetCDF Contents:\n",
    "* Variables: This is similar to a band in a raster dataset. Each variable contains an array of values.\n",
    "* Dimensions: This is similar to number of array axes.\n",
    "* Coordinates: These are the labels for values in each dimension.\n",
    "* Attributes: This is the metadata associated with the dataset."
   ],
   "metadata": {
    "collapsed": false
   }
  },
  {
   "cell_type": "code",
   "execution_count": 3,
   "outputs": [
    {
     "name": "stdout",
     "output_type": "stream",
     "text": [
      "-0.76\n"
     ]
    }
   ],
   "source": [
    "# Array of start/end times for each averaging period\n",
    "ds.time_bnds\n",
    "\n",
    "# Temp grid anomaly table\n",
    "da = ds.tempanomaly\n",
    "\n",
    "# Temp anomaly values at specific timesteps\n",
    "da.isel(time=-1)\n",
    "da.sel(time='2021-12-15')\n",
    "da.sel(lat=49, lon=-123, time='2021-06-15')\n",
    "da.sel(lat=28.6, lon=77.2, time='2021-05-01', method='nearest') # Inexact lookup\n",
    "da.sel(lat=28.6, lon=77.2, time='2021-05-01', method='nearest')\n",
    "da.sel(time=slice('2021-01-01', '2021-12-31'))\n",
    "\n",
    "# Choose and view above values\n",
    "selected = da.sel(lat=28.6, lon=77.2, time='2021-05-01', method='nearest')\n",
    "print(selected.values)\n",
    "\n",
    "# Mask then subset with where()\n",
    "selected = da.sel(lat=28.6, lon=77.2, method='nearest')\n",
    "positive = selected.where(selected > 0, drop=True)\n",
    "\n",
    "# Average temp anomoly for 2021\n",
    "subset2021 = da.sel(time=slice('2021-01-01', '2021-12-31'))\n",
    "subset2021.mean(dim='time')\n",
    "# Aggregate to yearly\n",
    "yearly = da.groupby('time.year').mean(dim='time')"
   ],
   "metadata": {
    "collapsed": false,
    "ExecuteTime": {
     "end_time": "2023-06-01T22:59:36.582830458Z",
     "start_time": "2023-06-01T22:59:36.388786556Z"
    }
   }
  }
 ],
 "metadata": {
  "kernelspec": {
   "display_name": "Python 3",
   "language": "python",
   "name": "python3"
  },
  "language_info": {
   "codemirror_mode": {
    "name": "ipython",
    "version": 2
   },
   "file_extension": ".py",
   "mimetype": "text/x-python",
   "name": "python",
   "nbconvert_exporter": "python",
   "pygments_lexer": "ipython2",
   "version": "2.7.6"
  }
 },
 "nbformat": 4,
 "nbformat_minor": 0
}
