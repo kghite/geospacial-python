{
 "cells": [
  {
   "cell_type": "markdown",
   "metadata": {},
   "source": [
    "# Data Projection with Cartopy\n",
    "\n",
    "## 1. Download climate data"
   ]
  },
  {
   "cell_type": "code",
   "execution_count": 1,
   "metadata": {
    "ExecuteTime": {
     "end_time": "2023-06-01T23:05:51.677341459Z",
     "start_time": "2023-06-01T23:05:43.569636924Z"
    }
   },
   "outputs": [],
   "source": [
    "import cartopy\n",
    "import cartopy.crs as ccrs\n",
    "import os\n",
    "import matplotlib.pyplot as plt\n",
    "import xarray as xr\n",
    "\n",
    "import utils\n",
    "\n",
    "filename = 'gistemp1200_GHCNv4_ERSSTv5.nc'\n",
    "data_url = 'https://github.com/spatialthoughts/python-dataviz-web/raw/main/data/gistemp/'\n",
    "\n",
    "utils.download(data_url + filename)\n",
    "\n",
    "file_path = os.path.join(utils.data_folder, filename)\n",
    "ds = xr.open_dataset(file_path)\n",
    "da = ds.tempanomaly\n",
    "\n",
    "yearly = da.groupby('time.year').mean(dim='time')"
   ]
  },
  {
   "cell_type": "markdown",
   "metadata": {},
   "source": [
    "## 2. Project the data with cartopy"
   ]
  },
  {
   "cell_type": "code",
   "execution_count": null,
   "metadata": {
    "ExecuteTime": {
     "start_time": "2023-06-01T23:05:53.750586166Z"
    }
   },
   "outputs": [],
   "source": [
    "anomaly2021 = yearly.sel(year=2021)\n",
    "cbar_kwargs = {\n",
    "    'orientation':'horizontal',\n",
    "    'fraction': 0.025,\n",
    "    'pad': 0.05,\n",
    "    'extend':'neither'\n",
    "}\n",
    "\n",
    "fig, ax = plt.subplots(1, 1, subplot_kw={'projection': ccrs.Orthographic(0, 30)})\n",
    "fig.set_size_inches(10, 10)\n",
    "anomaly2021.plot.imshow(\n",
    "    ax=ax,\n",
    "    vmin=-3, vmax=3, cmap='coolwarm',\n",
    "    transform=ccrs.PlateCarree(),\n",
    "    add_labels=False,\n",
    "    cbar_kwargs=cbar_kwargs)\n",
    "\n",
    "ax.coastlines()\n",
    "plt.title('Temperature Anomaly in 2021 (°C)', fontsize = 14)\n",
    "\n",
    "output_path = os.path.join(utils.results_folder, 'anomaly.jpg')\n",
    "plt.savefig(output_path, dpi=300)\n",
    "plt.show()"
   ]
  }
 ],
 "metadata": {
  "kernelspec": {
   "display_name": "Python 3 (ipykernel)",
   "language": "python",
   "name": "python3"
  },
  "language_info": {
   "codemirror_mode": {
    "name": "ipython",
    "version": 3
   },
   "file_extension": ".py",
   "mimetype": "text/x-python",
   "name": "python",
   "nbconvert_exporter": "python",
   "pygments_lexer": "ipython3",
   "version": "3.8.10"
  }
 },
 "nbformat": 4,
 "nbformat_minor": 1
}
